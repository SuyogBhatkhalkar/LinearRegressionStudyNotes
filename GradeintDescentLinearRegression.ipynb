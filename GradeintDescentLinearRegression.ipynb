{
 "cells": [
  {
   "cell_type": "code",
   "execution_count": 1,
   "metadata": {},
   "outputs": [],
   "source": [
    "# This note book will optimize the model using gradinet descent for linear regression. \n",
    "#it will use the flight delay prediction model\n",
    "import numpy as np\n",
    "import pandas as pd \n",
    "from keras.preprocessing.image import ImageDataGenerator, load_img\n",
    "from tensorflow.keras.utils import to_categorical\n",
    "from sklearn.model_selection import train_test_split\n",
    "import matplotlib.pyplot as plt\n",
    "import seaborn as sns\n",
    "sns.set()\n",
    "import random\n",
    "import os"
   ]
  },
  {
   "cell_type": "code",
   "execution_count": 2,
   "metadata": {},
   "outputs": [
    {
     "data": {
      "text/html": [
       "<div>\n",
       "<style scoped>\n",
       "    .dataframe tbody tr th:only-of-type {\n",
       "        vertical-align: middle;\n",
       "    }\n",
       "\n",
       "    .dataframe tbody tr th {\n",
       "        vertical-align: top;\n",
       "    }\n",
       "\n",
       "    .dataframe thead th {\n",
       "        text-align: right;\n",
       "    }\n",
       "</style>\n",
       "<table border=\"1\" class=\"dataframe\">\n",
       "  <thead>\n",
       "    <tr style=\"text-align: right;\">\n",
       "      <th></th>\n",
       "      <th>DEPARTURE_DELAY</th>\n",
       "      <th>TAXI_OUT</th>\n",
       "      <th>WHEELS_OFF</th>\n",
       "      <th>SCHEDULED_TIME</th>\n",
       "      <th>TAXI_IN</th>\n",
       "      <th>ARRIVAL_DELAY</th>\n",
       "      <th>departure_time_earlymorning</th>\n",
       "      <th>departure_time_morning</th>\n",
       "      <th>departure_time_afternoon</th>\n",
       "      <th>arrival_time_earlymorning</th>\n",
       "      <th>arrival_time_morning</th>\n",
       "      <th>arrival_time_afternoon</th>\n",
       "    </tr>\n",
       "  </thead>\n",
       "  <tbody>\n",
       "    <tr>\n",
       "      <th>0</th>\n",
       "      <td>-0.677271</td>\n",
       "      <td>-0.276785</td>\n",
       "      <td>-1.487592</td>\n",
       "      <td>-1.641208</td>\n",
       "      <td>-0.506501</td>\n",
       "      <td>-1.186866</td>\n",
       "      <td>0</td>\n",
       "      <td>0</td>\n",
       "      <td>0</td>\n",
       "      <td>0</td>\n",
       "      <td>0</td>\n",
       "      <td>0</td>\n",
       "    </tr>\n",
       "    <tr>\n",
       "      <th>1</th>\n",
       "      <td>-0.290225</td>\n",
       "      <td>0.284550</td>\n",
       "      <td>-0.886651</td>\n",
       "      <td>-1.590542</td>\n",
       "      <td>0.427826</td>\n",
       "      <td>0.081592</td>\n",
       "      <td>0</td>\n",
       "      <td>0</td>\n",
       "      <td>0</td>\n",
       "      <td>1</td>\n",
       "      <td>0</td>\n",
       "      <td>0</td>\n",
       "    </tr>\n",
       "    <tr>\n",
       "      <th>2</th>\n",
       "      <td>-0.599862</td>\n",
       "      <td>-1.118787</td>\n",
       "      <td>-0.261593</td>\n",
       "      <td>-1.674985</td>\n",
       "      <td>0.427826</td>\n",
       "      <td>-1.186866</td>\n",
       "      <td>1</td>\n",
       "      <td>0</td>\n",
       "      <td>0</td>\n",
       "      <td>1</td>\n",
       "      <td>0</td>\n",
       "      <td>0</td>\n",
       "    </tr>\n",
       "    <tr>\n",
       "      <th>3</th>\n",
       "      <td>-0.212816</td>\n",
       "      <td>-1.399454</td>\n",
       "      <td>0.317240</td>\n",
       "      <td>-1.742540</td>\n",
       "      <td>0.988423</td>\n",
       "      <td>0.477985</td>\n",
       "      <td>1</td>\n",
       "      <td>0</td>\n",
       "      <td>0</td>\n",
       "      <td>0</td>\n",
       "      <td>1</td>\n",
       "      <td>0</td>\n",
       "    </tr>\n",
       "    <tr>\n",
       "      <th>4</th>\n",
       "      <td>-0.057998</td>\n",
       "      <td>0.003882</td>\n",
       "      <td>1.095046</td>\n",
       "      <td>-1.658097</td>\n",
       "      <td>0.240961</td>\n",
       "      <td>-0.076966</td>\n",
       "      <td>0</td>\n",
       "      <td>1</td>\n",
       "      <td>0</td>\n",
       "      <td>0</td>\n",
       "      <td>1</td>\n",
       "      <td>0</td>\n",
       "    </tr>\n",
       "  </tbody>\n",
       "</table>\n",
       "</div>"
      ],
      "text/plain": [
       "   DEPARTURE_DELAY  TAXI_OUT  WHEELS_OFF  SCHEDULED_TIME   TAXI_IN  \\\n",
       "0        -0.677271 -0.276785   -1.487592       -1.641208 -0.506501   \n",
       "1        -0.290225  0.284550   -0.886651       -1.590542  0.427826   \n",
       "2        -0.599862 -1.118787   -0.261593       -1.674985  0.427826   \n",
       "3        -0.212816 -1.399454    0.317240       -1.742540  0.988423   \n",
       "4        -0.057998  0.003882    1.095046       -1.658097  0.240961   \n",
       "\n",
       "   ARRIVAL_DELAY  departure_time_earlymorning  departure_time_morning  \\\n",
       "0      -1.186866                            0                       0   \n",
       "1       0.081592                            0                       0   \n",
       "2      -1.186866                            1                       0   \n",
       "3       0.477985                            1                       0   \n",
       "4      -0.076966                            0                       1   \n",
       "\n",
       "   departure_time_afternoon  arrival_time_earlymorning  arrival_time_morning  \\\n",
       "0                         0                          0                     0   \n",
       "1                         0                          1                     0   \n",
       "2                         0                          1                     0   \n",
       "3                         0                          0                     1   \n",
       "4                         0                          0                     1   \n",
       "\n",
       "   arrival_time_afternoon  \n",
       "0                       0  \n",
       "1                       0  \n",
       "2                       0  \n",
       "3                       0  \n",
       "4                       0  "
      ]
     },
     "execution_count": 2,
     "metadata": {},
     "output_type": "execute_result"
    }
   ],
   "source": [
    "feature_data = pd.read_csv(\"D:/Suyog's Docs/Data/FlightData/features.csv\")#,header=None, names=flight_headers, dtype=flight_dtypes) #, header =[1])\n",
    "feature_data = feature_data.drop(feature_data.columns[0],axis=1)\n",
    "feature_data.head(5)"
   ]
  },
  {
   "cell_type": "code",
   "execution_count": 3,
   "metadata": {},
   "outputs": [],
   "source": [
    "# let us split data into target and independent variables\n",
    "# there are four basic assumptoins of linear regression model , these are \n",
    "# 1. Linearity : the relation between X and Y should be linear\n",
    "# 2. Homoscedasticity: The variance of residual is the same for any value of X\n",
    "# 3. Independence: Observations are independent of each other.\n",
    "# 4. Normality: For any fixed value of X, Y is normally distributed.\n",
    "y_labels= feature_data.pop('ARRIVAL_DELAY').values\n",
    "x_labels = feature_data.values"
   ]
  },
  {
   "cell_type": "code",
   "execution_count": 4,
   "metadata": {},
   "outputs": [],
   "source": [
    "# Choose your test size to split between training and testing sets:\n",
    "X_train, X_test, y_train, y_test = train_test_split(x_labels, y_labels, test_size=0.25, random_state=0)"
   ]
  },
  {
   "cell_type": "code",
   "execution_count": 5,
   "metadata": {},
   "outputs": [
    {
     "data": {
      "text/plain": [
       "2982"
      ]
     },
     "execution_count": 5,
     "metadata": {},
     "output_type": "execute_result"
    }
   ],
   "source": [
    "X_train.shape[0]"
   ]
  },
  {
   "cell_type": "code",
   "execution_count": 6,
   "metadata": {},
   "outputs": [
    {
     "data": {
      "text/plain": [
       "994"
      ]
     },
     "execution_count": 6,
     "metadata": {},
     "output_type": "execute_result"
    }
   ],
   "source": [
    "X_test.shape[0]"
   ]
  },
  {
   "cell_type": "code",
   "execution_count": 33,
   "metadata": {},
   "outputs": [],
   "source": [
    "m,n = X_train.shape\n",
    "Y = y_train.transpose()"
   ]
  },
  {
   "cell_type": "code",
   "execution_count": 17,
   "metadata": {},
   "outputs": [
    {
     "name": "stdout",
     "output_type": "stream",
     "text": [
      "[[ 1.          3.03836291 -0.41711843 ...  0.          1.\n",
      "   0.        ]\n",
      " [ 1.          3.34799903 -1.25912022 ...  0.          0.\n",
      "   0.        ]\n",
      " [ 1.         -0.44504353 -0.2767848  ...  0.          1.\n",
      "   0.        ]\n",
      " ...\n",
      " [ 1.         -0.36763449 -0.2767848  ...  1.          0.\n",
      "   0.        ]\n",
      " [ 1.          2.34168162 -1.25912022 ...  0.          0.\n",
      "   0.        ]\n",
      " [ 1.         -0.90949772  1.40721879 ...  0.          0.\n",
      "   0.        ]]\n"
     ]
    }
   ],
   "source": [
    "#Now add a column of ones to X for easier matrix manipulation of our hypothesis and cost function later on.\n",
    "#\n",
    "xo = np.hstack((np.ones((m, 1)), X_train))\n",
    "print(xo)"
   ]
  },
  {
   "cell_type": "code",
   "execution_count": 25,
   "metadata": {},
   "outputs": [],
   "source": [
    "#repeat = number of times to repeat gradient descent\n",
    "#theta = a theta for each feature of X, add one more column for theta 0\n",
    "#costhistory = keep the cost of each iteration of gradient descent\n",
    "repeat = 1000\n",
    "lrate = 0.01\n",
    "theta = np.zeros((n+1))"
   ]
  },
  {
   "cell_type": "code",
   "execution_count": 35,
   "metadata": {},
   "outputs": [],
   "source": [
    "#Lets define a cost function which gradient descent will use to determine the cost of each theta. \n",
    "#The cost function will implement the following cost equation.\n",
    "def computeCost(X, y, theta):\n",
    "    m = len(y) # number of training examples\n",
    "    diff = np.matmul(X, theta) - y\n",
    "    J = 1 / (2 * m) * np.matmul(diff, diff)\n",
    "    return J"
   ]
  },
  {
   "cell_type": "code",
   "execution_count": 23,
   "metadata": {},
   "outputs": [],
   "source": [
    "#calculate a new theta on each loop and keep track of its cost.\n",
    "def gradientDescent(X, y, theta, alpha, num_iters):\n",
    "    # Initialize some useful values\n",
    "    m = len(y) # number of training examples\n",
    "    J_history = []\n",
    "  # repeat until convergance\n",
    "    for i in range(num_iters):\n",
    "        hc = np.matmul(X, theta) - y\n",
    "        theta -= alpha / m * np.matmul(X.transpose(), hc)\n",
    "    # Save the cost J in every iteration\n",
    "        J_history.append(computeCost(X, y, theta))\n",
    "    return theta, J_history"
   ]
  },
  {
   "cell_type": "code",
   "execution_count": 36,
   "metadata": {},
   "outputs": [
    {
     "name": "stdout",
     "output_type": "stream",
     "text": [
      "Best theta computed from gradient descent: \n",
      " [ 0.02884703  0.69937654  0.35855561 -0.04495017 -0.12849497  0.28328593\n",
      " -0.06098834 -0.00195219  0.         -0.05575951 -0.01955722  0.        ] \n"
     ]
    }
   ],
   "source": [
    "theta, J_history = gradientDescent(xo, Y, theta, lrate, repeat)\n",
    "# Display gradient descent's result\n",
    "print('Best theta computed from gradient descent: ')\n",
    "print(f' {theta} ')"
   ]
  },
  {
   "cell_type": "code",
   "execution_count": 38,
   "metadata": {},
   "outputs": [
    {
     "data": {
      "image/png": "[encoded data removed]",
      "text/plain": [
       "<Figure size 432x288 with 1 Axes>"
      ]
     },
     "metadata": {
      "needs_background": "light"
     },
     "output_type": "display_data"
    }
   ],
   "source": [
    "plt.plot(np.arange(repeat), J_history, '-b', LineWidth=2)\n",
    "plt.xlabel('Number of iterations')\n",
    "plt.ylabel('Cost J')\n",
    "plt.show()"
   ]
  },
  {
   "cell_type": "code",
   "execution_count": 39,
   "metadata": {},
   "outputs": [],
   "source": [
    "y_pred = np.matmul(xo, theta)"
   ]
  },
  {
   "cell_type": "code",
   "execution_count": 43,
   "metadata": {},
   "outputs": [
    {
     "name": "stdout",
     "output_type": "stream",
     "text": [
      "RMSE:  0.6828768469355391\n",
      "Mean of results:  100.0\n",
      "Deviation of results:  0.0\n",
      "Results within 10% support/resistance:  100.0\n"
     ]
    }
   ],
   "source": [
    "from sklearn.metrics import mean_squared_error\n",
    "print('RMSE: ',np.sqrt(mean_squared_error(y_train, y_pred)))\n",
    "# calculate our own accuracy where prediction within 10% is o\n",
    "diff = (y_pred / y_pred * 100)\n",
    "print('Mean of results: ',diff.mean())\n",
    "print('Deviation of results: ',diff.std())\n",
    "print('Results within 10% support/resistance: ', len(np.where(np.logical_and(diff>=90, diff<=110))[0]) / m * 100)"
   ]
  },
  {
   "cell_type": "code",
   "execution_count": 44,
   "metadata": {},
   "outputs": [
    {
     "data": {
      "image/png": "[encoded data removed]",
      "text/plain": [
       "<Figure size 432x288 with 1 Axes>"
      ]
     },
     "metadata": {
      "needs_background": "light"
     },
     "output_type": "display_data"
    }
   ],
   "source": [
    "plt.plot(np.arange(m), diff, '-b', LineWidth=1)\n",
    "plt.xlabel('Number')\n",
    "plt.ylabel('Accuracy %')\n",
    "plt.show()"
   ]
  },
  {
   "cell_type": "code",
   "execution_count": null,
   "metadata": {},
   "outputs": [],
   "source": []
  }
 ],
 "metadata": {
  "kernelspec": {
   "display_name": "Python 3",
   "language": "python",
   "name": "python3"
  },
  "language_info": {
   "codemirror_mode": {
    "name": "ipython",
    "version": 3
   },
   "file_extension": ".py",
   "mimetype": "text/x-python",
   "name": "python",
   "nbconvert_exporter": "python",
   "pygments_lexer": "ipython3",
   "version": "3.7.1"
  }
 },
 "nbformat": 4,
 "nbformat_minor": 2
}
