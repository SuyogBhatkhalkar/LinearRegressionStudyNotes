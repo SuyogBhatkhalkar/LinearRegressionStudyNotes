{
 "cells": [
  {
   "cell_type": "code",
   "execution_count": 17,
   "metadata": {},
   "outputs": [],
   "source": [
    "# This note book will use the features created in feature engineering notebook and apply linear regression model on the same.\n",
    "import numpy as np\n",
    "import pandas as pd \n",
    "from keras.preprocessing.image import ImageDataGenerator, load_img\n",
    "from tensorflow.keras.utils import to_categorical\n",
    "from sklearn.model_selection import train_test_split\n",
    "import matplotlib.pyplot as plt\n",
    "import seaborn as sns\n",
    "sns.set()\n",
    "import random\n",
    "import os"
   ]
  },
  {
   "cell_type": "code",
   "execution_count": 18,
   "metadata": {},
   "outputs": [
    {
     "data": {
      "text/html": [
       "<div>\n",
       "<style scoped>\n",
       "    .dataframe tbody tr th:only-of-type {\n",
       "        vertical-align: middle;\n",
       "    }\n",
       "\n",
       "    .dataframe tbody tr th {\n",
       "        vertical-align: top;\n",
       "    }\n",
       "\n",
       "    .dataframe thead th {\n",
       "        text-align: right;\n",
       "    }\n",
       "</style>\n",
       "<table border=\"1\" class=\"dataframe\">\n",
       "  <thead>\n",
       "    <tr style=\"text-align: right;\">\n",
       "      <th></th>\n",
       "      <th>DEPARTURE_DELAY</th>\n",
       "      <th>TAXI_OUT</th>\n",
       "      <th>WHEELS_OFF</th>\n",
       "      <th>SCHEDULED_TIME</th>\n",
       "      <th>TAXI_IN</th>\n",
       "      <th>ARRIVAL_DELAY</th>\n",
       "      <th>departure_time_earlymorning</th>\n",
       "      <th>departure_time_morning</th>\n",
       "      <th>departure_time_afternoon</th>\n",
       "      <th>arrival_time_earlymorning</th>\n",
       "      <th>arrival_time_morning</th>\n",
       "      <th>arrival_time_afternoon</th>\n",
       "    </tr>\n",
       "  </thead>\n",
       "  <tbody>\n",
       "    <tr>\n",
       "      <th>0</th>\n",
       "      <td>-0.677271</td>\n",
       "      <td>-0.276785</td>\n",
       "      <td>-1.487592</td>\n",
       "      <td>-1.641208</td>\n",
       "      <td>-0.506501</td>\n",
       "      <td>-1.186866</td>\n",
       "      <td>0</td>\n",
       "      <td>0</td>\n",
       "      <td>0</td>\n",
       "      <td>0</td>\n",
       "      <td>0</td>\n",
       "      <td>0</td>\n",
       "    </tr>\n",
       "    <tr>\n",
       "      <th>1</th>\n",
       "      <td>-0.290225</td>\n",
       "      <td>0.284550</td>\n",
       "      <td>-0.886651</td>\n",
       "      <td>-1.590542</td>\n",
       "      <td>0.427826</td>\n",
       "      <td>0.081592</td>\n",
       "      <td>0</td>\n",
       "      <td>0</td>\n",
       "      <td>0</td>\n",
       "      <td>1</td>\n",
       "      <td>0</td>\n",
       "      <td>0</td>\n",
       "    </tr>\n",
       "    <tr>\n",
       "      <th>2</th>\n",
       "      <td>-0.599862</td>\n",
       "      <td>-1.118787</td>\n",
       "      <td>-0.261593</td>\n",
       "      <td>-1.674985</td>\n",
       "      <td>0.427826</td>\n",
       "      <td>-1.186866</td>\n",
       "      <td>1</td>\n",
       "      <td>0</td>\n",
       "      <td>0</td>\n",
       "      <td>1</td>\n",
       "      <td>0</td>\n",
       "      <td>0</td>\n",
       "    </tr>\n",
       "    <tr>\n",
       "      <th>3</th>\n",
       "      <td>-0.212816</td>\n",
       "      <td>-1.399454</td>\n",
       "      <td>0.317240</td>\n",
       "      <td>-1.742540</td>\n",
       "      <td>0.988423</td>\n",
       "      <td>0.477985</td>\n",
       "      <td>1</td>\n",
       "      <td>0</td>\n",
       "      <td>0</td>\n",
       "      <td>0</td>\n",
       "      <td>1</td>\n",
       "      <td>0</td>\n",
       "    </tr>\n",
       "    <tr>\n",
       "      <th>4</th>\n",
       "      <td>-0.057998</td>\n",
       "      <td>0.003882</td>\n",
       "      <td>1.095046</td>\n",
       "      <td>-1.658097</td>\n",
       "      <td>0.240961</td>\n",
       "      <td>-0.076966</td>\n",
       "      <td>0</td>\n",
       "      <td>1</td>\n",
       "      <td>0</td>\n",
       "      <td>0</td>\n",
       "      <td>1</td>\n",
       "      <td>0</td>\n",
       "    </tr>\n",
       "  </tbody>\n",
       "</table>\n",
       "</div>"
      ],
      "text/plain": [
       "   DEPARTURE_DELAY  TAXI_OUT  WHEELS_OFF  SCHEDULED_TIME   TAXI_IN  \\\n",
       "0        -0.677271 -0.276785   -1.487592       -1.641208 -0.506501   \n",
       "1        -0.290225  0.284550   -0.886651       -1.590542  0.427826   \n",
       "2        -0.599862 -1.118787   -0.261593       -1.674985  0.427826   \n",
       "3        -0.212816 -1.399454    0.317240       -1.742540  0.988423   \n",
       "4        -0.057998  0.003882    1.095046       -1.658097  0.240961   \n",
       "\n",
       "   ARRIVAL_DELAY  departure_time_earlymorning  departure_time_morning  \\\n",
       "0      -1.186866                            0                       0   \n",
       "1       0.081592                            0                       0   \n",
       "2      -1.186866                            1                       0   \n",
       "3       0.477985                            1                       0   \n",
       "4      -0.076966                            0                       1   \n",
       "\n",
       "   departure_time_afternoon  arrival_time_earlymorning  arrival_time_morning  \\\n",
       "0                         0                          0                     0   \n",
       "1                         0                          1                     0   \n",
       "2                         0                          1                     0   \n",
       "3                         0                          0                     1   \n",
       "4                         0                          0                     1   \n",
       "\n",
       "   arrival_time_afternoon  \n",
       "0                       0  \n",
       "1                       0  \n",
       "2                       0  \n",
       "3                       0  \n",
       "4                       0  "
      ]
     },
     "execution_count": 18,
     "metadata": {},
     "output_type": "execute_result"
    }
   ],
   "source": [
    "feature_data = pd.read_csv(\"D:/Suyog's Docs/Data/FlightData/features.csv\")#,header=None, names=flight_headers, dtype=flight_dtypes) #, header =[1])\n",
    "feature_data = feature_data.drop(feature_data.columns[0],axis=1)\n",
    "feature_data.head(5)"
   ]
  },
  {
   "cell_type": "code",
   "execution_count": 19,
   "metadata": {},
   "outputs": [],
   "source": [
    "# let us split data into target and independent variables\n",
    "# there are four basic assumptoins of linear regression model , these are \n",
    "# 1. Linearity : the relation between X and Y should be linear\n",
    "# 2. Homoscedasticity: The variance of residual is the same for any value of X\n",
    "# 3. Independence: Observations are independent of each other.\n",
    "# 4. Normality: For any fixed value of X, Y is normally distributed.\n",
    "y_labelsels= feature_data.pop('ARRIVAL_DELAY').values\n",
    "x_labels = feature_data.values\n"
   ]
  },
  {
   "cell_type": "code",
   "execution_count": 20,
   "metadata": {},
   "outputs": [],
   "source": [
    "# Choose your test size to split between training and testing sets:\n",
    "X_train, X_test, y_train, y_test = train_test_split(x_labels, y_labels, test_size=0.25, random_state=0)"
   ]
  },
  {
   "cell_type": "code",
   "execution_count": 21,
   "metadata": {},
   "outputs": [
    {
     "data": {
      "text/plain": [
       "2982"
      ]
     },
     "execution_count": 21,
     "metadata": {},
     "output_type": "execute_result"
    }
   ],
   "source": [
    "#get number of records in train set\n",
    "X_train.shape[0]"
   ]
  },
  {
   "cell_type": "code",
   "execution_count": 22,
   "metadata": {},
   "outputs": [
    {
     "data": {
      "text/plain": [
       "994"
      ]
     },
     "execution_count": 22,
     "metadata": {},
     "output_type": "execute_result"
    }
   ],
   "source": [
    "#get number of records in test set\n",
    "X_test.shape[0]"
   ]
  },
  {
   "cell_type": "code",
   "execution_count": 23,
   "metadata": {},
   "outputs": [],
   "source": [
    "#let us run ordinalry least sqaure model on the data\n",
    "from sklearn import linear_model\n",
    "ols = linear_model.LinearRegression(normalize=True)"
   ]
  },
  {
   "cell_type": "code",
   "execution_count": 24,
   "metadata": {},
   "outputs": [
    {
     "data": {
      "text/plain": [
       "LinearRegression(copy_X=True, fit_intercept=True, n_jobs=None, normalize=True)"
      ]
     },
     "execution_count": 24,
     "metadata": {},
     "output_type": "execute_result"
    }
   ],
   "source": [
    "ols.fit(X_train,y_train)\n"
   ]
  },
  {
   "cell_type": "code",
   "execution_count": 25,
   "metadata": {},
   "outputs": [
    {
     "name": "stdout",
     "output_type": "stream",
     "text": [
      "coef=  [ 7.00676490e-01  3.60264355e-01  1.15997837e-02 -1.27184458e-01\n",
      "  2.82009826e-01 -1.39872679e-01 -1.44921808e-01  5.77315973e-15\n",
      " -9.60393818e-02 -4.21903283e-02  0.00000000e+00]\n",
      "intercept=  0.12546630573606862\n"
     ]
    }
   ],
   "source": [
    "coef = ols.coef_\n",
    "intercept = ols.intercept_\n",
    "print('coef= ', coef)\n",
    "print('intercept= ', intercept)"
   ]
  },
  {
   "cell_type": "code",
   "execution_count": 26,
   "metadata": {},
   "outputs": [
    {
     "data": {
      "text/plain": [
       "0.5370033017106096"
      ]
     },
     "execution_count": 26,
     "metadata": {},
     "output_type": "execute_result"
    }
   ],
   "source": [
    "ols.score(X_train,y_train)"
   ]
  },
  {
   "cell_type": "code",
   "execution_count": 27,
   "metadata": {},
   "outputs": [],
   "source": [
    "predicted_values = ols.predict(X_test)"
   ]
  },
  {
   "cell_type": "code",
   "execution_count": 28,
   "metadata": {},
   "outputs": [
    {
     "name": "stdout",
     "output_type": "stream",
     "text": [
      "0.5036401021325728\n"
     ]
    }
   ],
   "source": [
    "predicted_delays = pd.DataFrame(predicted_values, columns=['Arrival_Delay'])\n",
    "predicted_delays.head(5)\n",
    "ols.score(X_test, predicted_values)\n",
    "#Indicate how many variables compared to the total variables the model predicted.\n",
    "#R-squared does not take into consideration any biases that might be present in the data. \n",
    "#Therefore, a good model might have a low R-squared value, or a model that does not fit the data might have a high R-squared value.\n",
    "#R2 score does not represent the loss of data , but perforamnce of model\n",
    "#With help of R squared we have a baseline model to compare a model which none of the other metrics provides. \n",
    "#The same we have in classification problems which we call a threshold which is fixed at 0.5. \n",
    "#So basically R2 squared calculates how must regression line is better than a mean line.\n",
    "# R Sqaured is also called as Coefficient of Determination or Goodness of fit\n",
    "from sklearn.metrics import r2_score\n",
    "print(r2_score( y_test,predicted_delays))"
   ]
  },
  {
   "cell_type": "code",
   "execution_count": 42,
   "metadata": {},
   "outputs": [
    {
     "name": "stdout",
     "output_type": "stream",
     "text": [
      "adjusted R sqaured 1.0495810661485117\n"
     ]
    }
   ],
   "source": [
    "#The disadvantage of the R2 score is while adding new features in data the R2 score starts increasing or remains constant but it never decreases\n",
    "#because It assumes that while adding more data variance of data increases.\n",
    "#But the problem is when we add an irrelevant feature in the dataset then at that time R2 sometimes starts increasing\n",
    "#which is incorrect.To control this situation Adjusted R Squared came into existence.\n",
    "R2 = r2_score( y_test,predicted_delays)\n",
    "n = y_test.size\n",
    "p = X_test.size\n",
    "Adj_r2 = 1-(1-R2)*(n-1)/(n-p-1)\n",
    "print (\"adjusted R sqaured\", Adj_r2 )"
   ]
  },
  {
   "cell_type": "code",
   "execution_count": 32,
   "metadata": {},
   "outputs": [
    {
     "data": {
      "text/plain": [
       "0.5481590088531827"
      ]
     },
     "execution_count": 32,
     "metadata": {},
     "output_type": "execute_result"
    }
   ],
   "source": [
    "#Mean Absoulute error sum all the errors and divide them by a total number of observations And this is MAE. \n",
    "#And we aim to get a minimum MAE because this is a loss.\n",
    "# Its simplest form of error giving metric in same unit with robust to outliers\n",
    "#The graph of MAE wont helpful to differentiate so optimzer like  gradient descent can be applied\n",
    "from sklearn.metrics import mean_absolute_error\n",
    "mean_absolute_error(y_test, predicted_values)"
   ]
  },
  {
   "cell_type": "code",
   "execution_count": 29,
   "metadata": {},
   "outputs": [
    {
     "data": {
      "text/plain": [
       "0.48606260123929546"
      ]
     },
     "execution_count": 29,
     "metadata": {},
     "output_type": "execute_result"
    }
   ],
   "source": [
    "#Mean sqaure errorrepresents the squared distance between actual and predicted values.\n",
    "#we perform squared to avoid the cancellation of negative terms and it is the benefit of MSE.\n",
    "#If you have outliers in the dataset then it penalizes the outliers most and the calculated MSE is bigger. \n",
    "#So, in short, It is not Robust to outliers which were an advantage in MAE.\n",
    "from sklearn.metrics import mean_squared_error\n",
    "mean_squared_error(y_test,predicted_values)"
   ]
  },
  {
   "cell_type": "code",
   "execution_count": 33,
   "metadata": {},
   "outputs": [
    {
     "name": "stdout",
     "output_type": "stream",
     "text": [
      "RMSE 0.697181899678481\n"
     ]
    }
   ],
   "source": [
    "# root mean sqaured error: It is simeple root of mean sqaured error.\n",
    "# It give output in same unit og input\n",
    "#It is not robust to outlier as MAE\n",
    "print(\"RMSE\",np.sqrt(mean_squared_error(y_test,predicted_values)))"
   ]
  },
  {
   "cell_type": "code",
   "execution_count": 35,
   "metadata": {},
   "outputs": [
    {
     "name": "stdout",
     "output_type": "stream",
     "text": [
      "RMSLE -0.3607089271212373\n"
     ]
    }
   ],
   "source": [
    "#Root Mean Squared Log Error(RMSLE) \n",
    "#Taking the log of the RMSE metric slows down the scale of error. The metric is very helpful when\n",
    "#you are developing a model without calling the inputs. In that case, the output will vary on a large scale.\n",
    "print(\"RMSLE\",np.log(np.sqrt(mean_squared_error(y_test,predicted_values))))"
   ]
  },
  {
   "cell_type": "code",
   "execution_count": 30,
   "metadata": {},
   "outputs": [
    {
     "data": {
      "text/plain": [
       "Text(0.5,1,'Predicted Vs Actuals By Model')"
      ]
     },
     "execution_count": 30,
     "metadata": {},
     "output_type": "execute_result"
    },
    {
     "data": {
      "image/png": "[encoded data removed]",
      "text/plain": [
       "<Figure size 432x288 with 1 Axes>"
      ]
     },
     "metadata": {},
     "output_type": "display_data"
    }
   ],
   "source": [
    "plt.scatter(y_test, predicted_delays)\n",
    "plt.xlabel('Arrival Delay Actuals')\n",
    "plt.ylabel('Predicted Arrival Delays')\n",
    "plt.rcParams[\"figure.figsize\"] = (10,6) # Custom figure size in inches\n",
    "plt.title(\"Predicted Vs Actuals By Model\")"
   ]
  },
  {
   "cell_type": "code",
   "execution_count": 31,
   "metadata": {},
   "outputs": [
    {
     "name": "stdout",
     "output_type": "stream",
     "text": [
      "coef=  [ 0.  0.  0.  0.  0. -0.  0.  0. -0.  0.  0.]\n",
      "intercept=  -0.012947241995551676\n",
      "0.0\n"
     ]
    }
   ],
   "source": [
    "#model has lot of variance , to reduce overfitting we need to regularize\n",
    "lasso_model = linear_model.Lasso(normalize= True, alpha= 0.55)\n",
    "lasso_model.fit(X_train,y_train)\n",
    "print('coef= ' , lasso_model.coef_)\n",
    "print('intercept= ' , lasso_model.intercept_)\n",
    "print(lasso_model.score(X_train,y_train))\n",
    "#price = model_l.predict()\n",
    "#print('Predicted price of a 1650 sq-ft, 3 br house:', price)"
   ]
  },
  {
   "cell_type": "code",
   "execution_count": 47,
   "metadata": {},
   "outputs": [],
   "source": [
    "arrival_delay_predict = lasso_model.predict(X_test)"
   ]
  },
  {
   "cell_type": "code",
   "execution_count": 50,
   "metadata": {},
   "outputs": [
    {
     "name": "stdout",
     "output_type": "stream",
     "text": [
      "-0.0027389177673455833\n"
     ]
    }
   ],
   "source": [
    "predicted_delays_lasso = pd.DataFrame(arrival_delay_predict, columns=['Arrival_Delay'])\n",
    "predicted_delays_lasso.head(5)\n",
    "ols.score(X_test, arrival_delay_predict)\n",
    "# (coefficient of determination) regression score function.\n",
    "\n",
    "#Best possible score is 1.0 and it can be negative (because the model can be arbitrarily worse).\n",
    "#A constant model that always predicts the expected value of y\n",
    "#disregarding the input features, would get a  score of 0.0.\n",
    "from sklearn.metrics import r2_score\n",
    "print(r2_score( y_test,predicted_delays_lasso))"
   ]
  },
  {
   "cell_type": "code",
   "execution_count": null,
   "metadata": {},
   "outputs": [],
   "source": [
    "def solution(A):\n",
    "    # write your code in Python 3.6\n",
    "    "
   ]
  },
  {
   "cell_type": "code",
   "execution_count": null,
   "metadata": {},
   "outputs": [],
   "source": []
  },
  {
   "cell_type": "code",
   "execution_count": 52,
   "metadata": {},
   "outputs": [
    {
     "data": {
      "text/plain": [
       "Text(0.5,1,'Predicted Vs Actuals By Model')"
      ]
     },
     "execution_count": 52,
     "metadata": {},
     "output_type": "execute_result"
    },
    {
     "data": {
      "image/png": "[encoded data removed]",
      "text/plain": [
       "<Figure size 720x432 with 1 Axes>"
      ]
     },
     "metadata": {},
     "output_type": "display_data"
    }
   ],
   "source": [
    "plt.scatter(y_test, predicted_delays_lasso)\n",
    "plt.xlabel('Arrival Delay Actuals')\n",
    "plt.ylabel('Predicted Arrival Delays')\n",
    "plt.rcParams[\"figure.figsize\"] = (10,6) # Custom figure size in inches\n",
    "plt.title(\"Predicted Vs Actuals By Model\")"
   ]
  },
  {
   "cell_type": "code",
   "execution_count": 54,
   "metadata": {},
   "outputs": [
    {
     "name": "stdout",
     "output_type": "stream",
     "text": [
      "coef=  [ 0.01646913  0.00626403  0.00337469  0.00098914  0.00458922 -0.0017339\n",
      "  0.00624969  0.         -0.003931    0.00431926  0.        ]\n",
      "intercept=  -0.015215995679974116\n"
     ]
    }
   ],
   "source": [
    "#ridge regression\n",
    "model_r = linear_model.Ridge(normalize= True, alpha= 35)\n",
    "model_r.fit(X_train,y_train)\n",
    "print('coef= ' , model_r.coef_)\n",
    "print('intercept= ' , model_r.intercept_)"
   ]
  },
  {
   "cell_type": "code",
   "execution_count": 55,
   "metadata": {},
   "outputs": [],
   "source": [
    "arrival_delay_predict_r = model_r.predict(X_test)"
   ]
  },
  {
   "cell_type": "code",
   "execution_count": 57,
   "metadata": {},
   "outputs": [
    {
     "name": "stdout",
     "output_type": "stream",
     "text": [
      "0.022190174034407484\n"
     ]
    }
   ],
   "source": [
    "predicted_delays_ridge = pd.DataFrame(arrival_delay_predict_r, columns=['Arrival_Delay'])\n",
    "predicted_delays_ridge.head(5)\n",
    "ols.score(X_test, arrival_delay_predict_r)\n",
    "from sklearn.metrics import r2_score\n",
    "print(r2_score( y_test,predicted_delays_ridge))"
   ]
  },
  {
   "cell_type": "code",
   "execution_count": 58,
   "metadata": {},
   "outputs": [
    {
     "data": {
      "text/plain": [
       "Text(0.5,1,'Predicted Vs Actuals By Model')"
      ]
     },
     "execution_count": 58,
     "metadata": {},
     "output_type": "execute_result"
    },
    {
     "data": {
      "image/png": "[encoded data removed]",
      "text/plain": [
       "<Figure size 720x432 with 1 Axes>"
      ]
     },
     "metadata": {},
     "output_type": "display_data"
    }
   ],
   "source": [
    "plt.scatter(y_test, predicted_delays_ridge)\n",
    "plt.xlabel('Arrival Delay Actuals')\n",
    "plt.ylabel('Predicted Arrival Delays')\n",
    "plt.rcParams[\"figure.figsize\"] = (10,6) # Custom figure size in inches\n",
    "plt.title(\"Predicted Vs Actuals By Model\")"
   ]
  }
 ],
 "metadata": {
  "kernelspec": {
   "display_name": "Python 3",
   "language": "python",
   "name": "python3"
  },
  "language_info": {
   "codemirror_mode": {
    "name": "ipython",
    "version": 3
   },
   "file_extension": ".py",
   "mimetype": "text/x-python",
   "name": "python",
   "nbconvert_exporter": "python",
   "pygments_lexer": "ipython3",
   "version": "3.7.1"
  }
 },
 "nbformat": 4,
 "nbformat_minor": 2
}
